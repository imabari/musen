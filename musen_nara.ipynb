{
  "nbformat": 4,
  "nbformat_minor": 0,
  "metadata": {
    "colab": {
      "name": "musen_nara.ipynb",
      "provenance": [],
      "toc_visible": true,
      "authorship_tag": "ABX9TyPG9HrNfAVGo6Y+DO0bE3Q6",
      "include_colab_link": true
    },
    "kernelspec": {
      "name": "python3",
      "display_name": "Python 3"
    },
    "language_info": {
      "name": "python"
    }
  },
  "cells": [
    {
      "cell_type": "markdown",
      "metadata": {
        "id": "view-in-github",
        "colab_type": "text"
      },
      "source": [
        "<a href=\"https://colab.research.google.com/github/imabari/musen/blob/main/musen_nara.ipynb\" target=\"_parent\"><img src=\"https://colab.research.google.com/assets/colab-badge.svg\" alt=\"Open In Colab\"/></a>"
      ]
    },
    {
      "cell_type": "markdown",
      "metadata": {
        "id": "Eh42NmlvZT2N"
      },
      "source": [
        "件数取得API/一覧取得APIのリクエスト条件一覧\n",
        "\n",
        "https://www.tele.soumu.go.jp/resource/j/musen/webapi/mw_req_conditions.pdf\n",
        "\n",
        "\n",
        "コード値一覧\n",
        "\n",
        "https://www.tele.soumu.go.jp/resource/j/musen/webapi/mw_code.pdf\n",
        "\n",
        "\n",
        "地方公共団体コード\n",
        "\n",
        "http://www.soumu.go.jp/denshijiti/code.html"
      ]
    },
    {
      "cell_type": "code",
      "metadata": {
        "id": "aZLJcQa7NOUX"
      },
      "source": [
        "import io\n",
        "import urllib.parse\n",
        "\n",
        "import requests\n",
        "import pandas as pd"
      ],
      "execution_count": 1,
      "outputs": []
    },
    {
      "cell_type": "markdown",
      "metadata": {
        "id": "jzHhg7RBHdFY"
      },
      "source": [
        "# API"
      ]
    },
    {
      "cell_type": "code",
      "metadata": {
        "id": "zHY_GQA3gee1"
      },
      "source": [
        "d = {\n",
        "    # 1:免許情報検索  2: 登録情報検索\n",
        "    \"ST\": 1,\n",
        "    # 詳細情報付加 0:なし 1:あり\n",
        "    \"DA\": 1,\n",
        "    # スタートカウント\n",
        "    \"SC\": 1,\n",
        "    # 取得件数\n",
        "    \"DC\": 1,\n",
        "    # 出力形式 1:CSV 2:JSON 3:XML\n",
        "    \"OF\": 1,\n",
        "    # 無線局の種別\n",
        "    \"OW\": \"FB_H\",\n",
        "    # 所轄総合通信局\n",
        "    \"IT\": \"E\",\n",
        "    # 免許人名称/登録人名称\n",
        "    \"NA\": \"楽天モバイル\",\n",
        "}\n",
        "\n",
        "parm = urllib.parse.urlencode(d, encoding=\"shift-jis\")"
      ],
      "execution_count": 2,
      "outputs": []
    },
    {
      "cell_type": "code",
      "metadata": {
        "id": "guWywaw2eH5G"
      },
      "source": [
        "r = requests.get(\"https://www.tele.soumu.go.jp/musen/list\", parm)"
      ],
      "execution_count": 3,
      "outputs": []
    },
    {
      "cell_type": "markdown",
      "metadata": {
        "id": "TluD-rCaHOB3"
      },
      "source": [
        "# データラングリング"
      ]
    },
    {
      "cell_type": "code",
      "metadata": {
        "id": "-rDZkCJAANGA"
      },
      "source": [
        "df0 = pd.read_csv(io.StringIO(r.text), skiprows=1, header=None, index_col=0)"
      ],
      "execution_count": 4,
      "outputs": []
    },
    {
      "cell_type": "code",
      "metadata": {
        "id": "_Kfgn2pCBXzH"
      },
      "source": [
        "df1 = df0[25].str.strip().str.split(r\"\\\\n\", 2, expand=True)"
      ],
      "execution_count": 5,
      "outputs": []
    },
    {
      "cell_type": "code",
      "metadata": {
        "id": "Vav6nLle8sgx"
      },
      "source": [
        "se = df1.loc[df1[0].str.contains(\"携帯電話（その他基地局等\"), 2]"
      ],
      "execution_count": 6,
      "outputs": []
    },
    {
      "cell_type": "code",
      "metadata": {
        "id": "-cgicwX_9mcC"
      },
      "source": [
        "df2 = se.str.strip().str.replace(r\"\\\\n\", \"\").str.extractall(\"(.+?)\\(([0-9,]+?)\\)\").rename(columns={0: \"市区町村名\", 1: \"開設局数\"}).reset_index(drop=True)"
      ],
      "execution_count": 7,
      "outputs": []
    },
    {
      "cell_type": "code",
      "metadata": {
        "id": "ardUsc110gcp"
      },
      "source": [
        "df2[\"市区町村名\"] = df2[\"市区町村名\"].str.strip()"
      ],
      "execution_count": 8,
      "outputs": []
    },
    {
      "cell_type": "code",
      "metadata": {
        "id": "ClVh8F3LykRZ"
      },
      "source": [
        "df2[\"開設局数\"] = df2[\"開設局数\"].str.strip().str.replace(\",\", \"\").astype(int)"
      ],
      "execution_count": 9,
      "outputs": []
    },
    {
      "cell_type": "code",
      "metadata": {
        "id": "WrC5Ip4trOnm"
      },
      "source": [
        "flag = df2[\"市区町村名\"].str.endswith((\"都\",\"道\",\"府\",\"県\"))"
      ],
      "execution_count": 10,
      "outputs": []
    },
    {
      "cell_type": "code",
      "metadata": {
        "id": "bQmG00mNrSDe"
      },
      "source": [
        "df2[\"都道府県名\"] = df2[\"市区町村名\"].where(flag).fillna(method=\"ffill\")"
      ],
      "execution_count": 11,
      "outputs": []
    },
    {
      "cell_type": "code",
      "metadata": {
        "colab": {
          "base_uri": "https://localhost:8080/",
          "height": 424
        },
        "id": "qyeNLtbuli7U",
        "outputId": "531245bc-b495-4f00-86ac-d236b4f236a1"
      },
      "source": [
        "df2"
      ],
      "execution_count": 12,
      "outputs": [
        {
          "output_type": "execute_result",
          "data": {
            "text/html": [
              "<div>\n",
              "<style scoped>\n",
              "    .dataframe tbody tr th:only-of-type {\n",
              "        vertical-align: middle;\n",
              "    }\n",
              "\n",
              "    .dataframe tbody tr th {\n",
              "        vertical-align: top;\n",
              "    }\n",
              "\n",
              "    .dataframe thead th {\n",
              "        text-align: right;\n",
              "    }\n",
              "</style>\n",
              "<table border=\"1\" class=\"dataframe\">\n",
              "  <thead>\n",
              "    <tr style=\"text-align: right;\">\n",
              "      <th></th>\n",
              "      <th>市区町村名</th>\n",
              "      <th>開設局数</th>\n",
              "      <th>都道府県名</th>\n",
              "    </tr>\n",
              "  </thead>\n",
              "  <tbody>\n",
              "    <tr>\n",
              "      <th>0</th>\n",
              "      <td>東京都</td>\n",
              "      <td>2619</td>\n",
              "      <td>東京都</td>\n",
              "    </tr>\n",
              "    <tr>\n",
              "      <th>1</th>\n",
              "      <td>港区</td>\n",
              "      <td>2619</td>\n",
              "      <td>東京都</td>\n",
              "    </tr>\n",
              "    <tr>\n",
              "      <th>2</th>\n",
              "      <td>神奈川県</td>\n",
              "      <td>3169</td>\n",
              "      <td>神奈川県</td>\n",
              "    </tr>\n",
              "    <tr>\n",
              "      <th>3</th>\n",
              "      <td>横浜市戸塚区</td>\n",
              "      <td>3169</td>\n",
              "      <td>神奈川県</td>\n",
              "    </tr>\n",
              "    <tr>\n",
              "      <th>4</th>\n",
              "      <td>滋賀県</td>\n",
              "      <td>164</td>\n",
              "      <td>滋賀県</td>\n",
              "    </tr>\n",
              "    <tr>\n",
              "      <th>...</th>\n",
              "      <td>...</td>\n",
              "      <td>...</td>\n",
              "      <td>...</td>\n",
              "    </tr>\n",
              "    <tr>\n",
              "      <th>158</th>\n",
              "      <td>御坊市</td>\n",
              "      <td>2</td>\n",
              "      <td>和歌山県</td>\n",
              "    </tr>\n",
              "    <tr>\n",
              "      <th>159</th>\n",
              "      <td>田辺市</td>\n",
              "      <td>3</td>\n",
              "      <td>和歌山県</td>\n",
              "    </tr>\n",
              "    <tr>\n",
              "      <th>160</th>\n",
              "      <td>日高郡みなべ町</td>\n",
              "      <td>1</td>\n",
              "      <td>和歌山県</td>\n",
              "    </tr>\n",
              "    <tr>\n",
              "      <th>161</th>\n",
              "      <td>西牟婁郡白浜町</td>\n",
              "      <td>6</td>\n",
              "      <td>和歌山県</td>\n",
              "    </tr>\n",
              "    <tr>\n",
              "      <th>162</th>\n",
              "      <td>西牟婁郡上富田町</td>\n",
              "      <td>5</td>\n",
              "      <td>和歌山県</td>\n",
              "    </tr>\n",
              "  </tbody>\n",
              "</table>\n",
              "<p>163 rows × 3 columns</p>\n",
              "</div>"
            ],
            "text/plain": [
              "        市区町村名  開設局数 都道府県名\n",
              "0         東京都  2619   東京都\n",
              "1          港区  2619   東京都\n",
              "2        神奈川県  3169  神奈川県\n",
              "3      横浜市戸塚区  3169  神奈川県\n",
              "4         滋賀県   164   滋賀県\n",
              "..        ...   ...   ...\n",
              "158       御坊市     2  和歌山県\n",
              "159       田辺市     3  和歌山県\n",
              "160   日高郡みなべ町     1  和歌山県\n",
              "161   西牟婁郡白浜町     6  和歌山県\n",
              "162  西牟婁郡上富田町     5  和歌山県\n",
              "\n",
              "[163 rows x 3 columns]"
            ]
          },
          "metadata": {
            "tags": []
          },
          "execution_count": 12
        }
      ]
    },
    {
      "cell_type": "markdown",
      "metadata": {
        "id": "X0u_l3gOHA_S"
      },
      "source": [
        "# 都道府県"
      ]
    },
    {
      "cell_type": "code",
      "metadata": {
        "colab": {
          "base_uri": "https://localhost:8080/",
          "height": 300
        },
        "id": "cAbwftD4rdCN",
        "outputId": "242f7384-7933-4937-c0b1-72352a6da4ce"
      },
      "source": [
        "df_prefs = df2[flag].reset_index(drop=True)\n",
        "df_prefs"
      ],
      "execution_count": 13,
      "outputs": [
        {
          "output_type": "execute_result",
          "data": {
            "text/html": [
              "<div>\n",
              "<style scoped>\n",
              "    .dataframe tbody tr th:only-of-type {\n",
              "        vertical-align: middle;\n",
              "    }\n",
              "\n",
              "    .dataframe tbody tr th {\n",
              "        vertical-align: top;\n",
              "    }\n",
              "\n",
              "    .dataframe thead th {\n",
              "        text-align: right;\n",
              "    }\n",
              "</style>\n",
              "<table border=\"1\" class=\"dataframe\">\n",
              "  <thead>\n",
              "    <tr style=\"text-align: right;\">\n",
              "      <th></th>\n",
              "      <th>市区町村名</th>\n",
              "      <th>開設局数</th>\n",
              "      <th>都道府県名</th>\n",
              "    </tr>\n",
              "  </thead>\n",
              "  <tbody>\n",
              "    <tr>\n",
              "      <th>0</th>\n",
              "      <td>東京都</td>\n",
              "      <td>2619</td>\n",
              "      <td>東京都</td>\n",
              "    </tr>\n",
              "    <tr>\n",
              "      <th>1</th>\n",
              "      <td>神奈川県</td>\n",
              "      <td>3169</td>\n",
              "      <td>神奈川県</td>\n",
              "    </tr>\n",
              "    <tr>\n",
              "      <th>2</th>\n",
              "      <td>滋賀県</td>\n",
              "      <td>164</td>\n",
              "      <td>滋賀県</td>\n",
              "    </tr>\n",
              "    <tr>\n",
              "      <th>3</th>\n",
              "      <td>京都府</td>\n",
              "      <td>375</td>\n",
              "      <td>京都府</td>\n",
              "    </tr>\n",
              "    <tr>\n",
              "      <th>4</th>\n",
              "      <td>大阪府</td>\n",
              "      <td>1518</td>\n",
              "      <td>大阪府</td>\n",
              "    </tr>\n",
              "    <tr>\n",
              "      <th>5</th>\n",
              "      <td>兵庫県</td>\n",
              "      <td>877</td>\n",
              "      <td>兵庫県</td>\n",
              "    </tr>\n",
              "    <tr>\n",
              "      <th>6</th>\n",
              "      <td>奈良県</td>\n",
              "      <td>187</td>\n",
              "      <td>奈良県</td>\n",
              "    </tr>\n",
              "    <tr>\n",
              "      <th>7</th>\n",
              "      <td>和歌山県</td>\n",
              "      <td>54</td>\n",
              "      <td>和歌山県</td>\n",
              "    </tr>\n",
              "  </tbody>\n",
              "</table>\n",
              "</div>"
            ],
            "text/plain": [
              "  市区町村名  開設局数 都道府県名\n",
              "0   東京都  2619   東京都\n",
              "1  神奈川県  3169  神奈川県\n",
              "2   滋賀県   164   滋賀県\n",
              "3   京都府   375   京都府\n",
              "4   大阪府  1518   大阪府\n",
              "5   兵庫県   877   兵庫県\n",
              "6   奈良県   187   奈良県\n",
              "7  和歌山県    54  和歌山県"
            ]
          },
          "metadata": {
            "tags": []
          },
          "execution_count": 13
        }
      ]
    },
    {
      "cell_type": "code",
      "metadata": {
        "id": "ZUIK3B9xt2t3"
      },
      "source": [
        "df_prefs.to_csv(\"prefs.csv\", encoding=\"utf_8_sig\")"
      ],
      "execution_count": 14,
      "outputs": []
    },
    {
      "cell_type": "markdown",
      "metadata": {
        "id": "aS09kis5HH-q"
      },
      "source": [
        "# 市区町村"
      ]
    },
    {
      "cell_type": "code",
      "metadata": {
        "colab": {
          "base_uri": "https://localhost:8080/",
          "height": 424
        },
        "id": "h8QN_C2ZrqdN",
        "outputId": "875be40e-f724-4134-df08-5294d88aa0f0"
      },
      "source": [
        "df_cities = df2[~flag].reset_index(drop=True).reindex(columns=[\"都道府県名\", \"市区町村名\", \"開設局数\"])\n",
        "df_cities"
      ],
      "execution_count": 15,
      "outputs": [
        {
          "output_type": "execute_result",
          "data": {
            "text/html": [
              "<div>\n",
              "<style scoped>\n",
              "    .dataframe tbody tr th:only-of-type {\n",
              "        vertical-align: middle;\n",
              "    }\n",
              "\n",
              "    .dataframe tbody tr th {\n",
              "        vertical-align: top;\n",
              "    }\n",
              "\n",
              "    .dataframe thead th {\n",
              "        text-align: right;\n",
              "    }\n",
              "</style>\n",
              "<table border=\"1\" class=\"dataframe\">\n",
              "  <thead>\n",
              "    <tr style=\"text-align: right;\">\n",
              "      <th></th>\n",
              "      <th>都道府県名</th>\n",
              "      <th>市区町村名</th>\n",
              "      <th>開設局数</th>\n",
              "    </tr>\n",
              "  </thead>\n",
              "  <tbody>\n",
              "    <tr>\n",
              "      <th>0</th>\n",
              "      <td>東京都</td>\n",
              "      <td>港区</td>\n",
              "      <td>2619</td>\n",
              "    </tr>\n",
              "    <tr>\n",
              "      <th>1</th>\n",
              "      <td>神奈川県</td>\n",
              "      <td>横浜市戸塚区</td>\n",
              "      <td>3169</td>\n",
              "    </tr>\n",
              "    <tr>\n",
              "      <th>2</th>\n",
              "      <td>滋賀県</td>\n",
              "      <td>大津市</td>\n",
              "      <td>39</td>\n",
              "    </tr>\n",
              "    <tr>\n",
              "      <th>3</th>\n",
              "      <td>滋賀県</td>\n",
              "      <td>彦根市</td>\n",
              "      <td>21</td>\n",
              "    </tr>\n",
              "    <tr>\n",
              "      <th>4</th>\n",
              "      <td>滋賀県</td>\n",
              "      <td>長浜市</td>\n",
              "      <td>1</td>\n",
              "    </tr>\n",
              "    <tr>\n",
              "      <th>...</th>\n",
              "      <td>...</td>\n",
              "      <td>...</td>\n",
              "      <td>...</td>\n",
              "    </tr>\n",
              "    <tr>\n",
              "      <th>150</th>\n",
              "      <td>和歌山県</td>\n",
              "      <td>御坊市</td>\n",
              "      <td>2</td>\n",
              "    </tr>\n",
              "    <tr>\n",
              "      <th>151</th>\n",
              "      <td>和歌山県</td>\n",
              "      <td>田辺市</td>\n",
              "      <td>3</td>\n",
              "    </tr>\n",
              "    <tr>\n",
              "      <th>152</th>\n",
              "      <td>和歌山県</td>\n",
              "      <td>日高郡みなべ町</td>\n",
              "      <td>1</td>\n",
              "    </tr>\n",
              "    <tr>\n",
              "      <th>153</th>\n",
              "      <td>和歌山県</td>\n",
              "      <td>西牟婁郡白浜町</td>\n",
              "      <td>6</td>\n",
              "    </tr>\n",
              "    <tr>\n",
              "      <th>154</th>\n",
              "      <td>和歌山県</td>\n",
              "      <td>西牟婁郡上富田町</td>\n",
              "      <td>5</td>\n",
              "    </tr>\n",
              "  </tbody>\n",
              "</table>\n",
              "<p>155 rows × 3 columns</p>\n",
              "</div>"
            ],
            "text/plain": [
              "    都道府県名     市区町村名  開設局数\n",
              "0     東京都        港区  2619\n",
              "1    神奈川県    横浜市戸塚区  3169\n",
              "2     滋賀県       大津市    39\n",
              "3     滋賀県       彦根市    21\n",
              "4     滋賀県       長浜市     1\n",
              "..    ...       ...   ...\n",
              "150  和歌山県       御坊市     2\n",
              "151  和歌山県       田辺市     3\n",
              "152  和歌山県   日高郡みなべ町     1\n",
              "153  和歌山県   西牟婁郡白浜町     6\n",
              "154  和歌山県  西牟婁郡上富田町     5\n",
              "\n",
              "[155 rows x 3 columns]"
            ]
          },
          "metadata": {
            "tags": []
          },
          "execution_count": 15
        }
      ]
    },
    {
      "cell_type": "code",
      "metadata": {
        "id": "y_0fTcAkuE9q"
      },
      "source": [
        "df_cities.to_csv(\"cities.csv\", encoding=\"utf_8_sig\")"
      ],
      "execution_count": 16,
      "outputs": []
    },
    {
      "cell_type": "markdown",
      "metadata": {
        "id": "K0FU68Rx_bL3"
      },
      "source": [
        "# 奈良県"
      ]
    },
    {
      "cell_type": "code",
      "metadata": {
        "id": "7vMiJNuw-9eG"
      },
      "source": [
        "df_nara = df_cities[df_cities[\"都道府県名\"] == \"奈良県\"].set_index(\"市区町村名\")"
      ],
      "execution_count": 17,
      "outputs": []
    },
    {
      "cell_type": "code",
      "metadata": {
        "id": "GlVX9gJmDovX"
      },
      "source": [
        "df_nara.drop(\"都道府県名\", axis=1, inplace=True)"
      ],
      "execution_count": 18,
      "outputs": []
    },
    {
      "cell_type": "code",
      "metadata": {
        "id": "xmgN2qeADzIr"
      },
      "source": [
        "idx = (\n",
        "    \"奈良市\",\n",
        "    \"大和高田市\",\n",
        "    \"大和郡山市\",\n",
        "    \"天理市\",\n",
        "    \"橿原市\",\n",
        "    \"桜井市\",\n",
        "    \"五條市\",\n",
        "    \"御所市\",\n",
        "    \"生駒市\",\n",
        "    \"香芝市\",\n",
        "    \"葛城市\",\n",
        "    \"宇陀市\",\n",
        "    \"山添村\",\n",
        "    \"平群町\",\n",
        "    \"三郷町\",\n",
        "    \"斑鳩町\",\n",
        "    \"安堵町\",\n",
        "    \"川西町\",\n",
        "    \"三宅町\",\n",
        "    \"田原本町\",\n",
        "    \"曽爾村\",\n",
        "    \"御杖村\",\n",
        "    \"高取町\",\n",
        "    \"明日香村\",\n",
        "    \"上牧町\",\n",
        "    \"王寺町\",\n",
        "    \"広陵町\",\n",
        "    \"河合町\",\n",
        "    \"吉野町\",\n",
        "    \"大淀町\",\n",
        "    \"下市町\",\n",
        "    \"黒滝村\",\n",
        "    \"天川村\",\n",
        "    \"野迫川村\",\n",
        "    \"十津川村\",\n",
        "    \"下北山村\",\n",
        "    \"上北山村\",\n",
        "    \"川上村\",\n",
        "    \"東吉野村\",\n",
        ")"
      ],
      "execution_count": 19,
      "outputs": []
    },
    {
      "cell_type": "code",
      "metadata": {
        "id": "dv-LATWeDjyq"
      },
      "source": [
        "df_nara = df_nara.reindex(idx, fill_value=0)"
      ],
      "execution_count": 20,
      "outputs": []
    },
    {
      "cell_type": "code",
      "metadata": {
        "colab": {
          "base_uri": "https://localhost:8080/"
        },
        "id": "lfJhSRYK_QrR",
        "outputId": "fc96c508-8b03-41f9-f39e-32bcdcdc47ea"
      },
      "source": [
        "df_nara[\"開設局数\"].sum()"
      ],
      "execution_count": 21,
      "outputs": [
        {
          "output_type": "execute_result",
          "data": {
            "text/plain": [
              "172"
            ]
          },
          "metadata": {
            "tags": []
          },
          "execution_count": 21
        }
      ]
    },
    {
      "cell_type": "code",
      "metadata": {
        "id": "tpGew608_fbw"
      },
      "source": [
        "df_nara.to_csv(\"nara.csv\", encoding=\"utf_8_sig\")"
      ],
      "execution_count": 22,
      "outputs": []
    },
    {
      "cell_type": "markdown",
      "metadata": {
        "id": "TedlLH-hG8Vq"
      },
      "source": [
        "# ダウンロード"
      ]
    },
    {
      "cell_type": "code",
      "metadata": {
        "id": "LOdwY97YGwV6"
      },
      "source": [
        "from google.colab import files"
      ],
      "execution_count": 23,
      "outputs": []
    },
    {
      "cell_type": "code",
      "metadata": {
        "colab": {
          "base_uri": "https://localhost:8080/",
          "height": 17
        },
        "id": "A9EjGppkGzjK",
        "outputId": "6158562e-58bc-42ec-ee5a-82281401b9cf"
      },
      "source": [
        "files.download(\"nara.csv\")"
      ],
      "execution_count": 24,
      "outputs": [
        {
          "output_type": "display_data",
          "data": {
            "application/javascript": [
              "\n",
              "    async function download(id, filename, size) {\n",
              "      if (!google.colab.kernel.accessAllowed) {\n",
              "        return;\n",
              "      }\n",
              "      const div = document.createElement('div');\n",
              "      const label = document.createElement('label');\n",
              "      label.textContent = `Downloading \"${filename}\": `;\n",
              "      div.appendChild(label);\n",
              "      const progress = document.createElement('progress');\n",
              "      progress.max = size;\n",
              "      div.appendChild(progress);\n",
              "      document.body.appendChild(div);\n",
              "\n",
              "      const buffers = [];\n",
              "      let downloaded = 0;\n",
              "\n",
              "      const channel = await google.colab.kernel.comms.open(id);\n",
              "      // Send a message to notify the kernel that we're ready.\n",
              "      channel.send({})\n",
              "\n",
              "      for await (const message of channel.messages) {\n",
              "        // Send a message to notify the kernel that we're ready.\n",
              "        channel.send({})\n",
              "        if (message.buffers) {\n",
              "          for (const buffer of message.buffers) {\n",
              "            buffers.push(buffer);\n",
              "            downloaded += buffer.byteLength;\n",
              "            progress.value = downloaded;\n",
              "          }\n",
              "        }\n",
              "      }\n",
              "      const blob = new Blob(buffers, {type: 'application/binary'});\n",
              "      const a = document.createElement('a');\n",
              "      a.href = window.URL.createObjectURL(blob);\n",
              "      a.download = filename;\n",
              "      div.appendChild(a);\n",
              "      a.click();\n",
              "      div.remove();\n",
              "    }\n",
              "  "
            ],
            "text/plain": [
              "<IPython.core.display.Javascript object>"
            ]
          },
          "metadata": {
            "tags": []
          }
        },
        {
          "output_type": "display_data",
          "data": {
            "application/javascript": [
              "download(\"download_42487f6a-51e4-435f-a8fa-2e5cdda913e2\", \"nara.csv\", 541)"
            ],
            "text/plain": [
              "<IPython.core.display.Javascript object>"
            ]
          },
          "metadata": {
            "tags": []
          }
        }
      ]
    }
  ]
}