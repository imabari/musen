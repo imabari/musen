{
  "nbformat": 4,
  "nbformat_minor": 0,
  "metadata": {
    "colab": {
      "name": "rakuten5G.ipynb",
      "provenance": [],
      "authorship_tag": "ABX9TyMnwLymIWHxtFpErYlHAZkL",
      "include_colab_link": true
    },
    "kernelspec": {
      "name": "python3",
      "display_name": "Python 3"
    },
    "language_info": {
      "name": "python"
    }
  },
  "cells": [
    {
      "cell_type": "markdown",
      "metadata": {
        "id": "view-in-github",
        "colab_type": "text"
      },
      "source": [
        "<a href=\"https://colab.research.google.com/github/imabari/musen/blob/gh-pages/rakuten5G.ipynb\" target=\"_parent\"><img src=\"https://colab.research.google.com/assets/colab-badge.svg\" alt=\"Open In Colab\"/></a>"
      ]
    },
    {
      "cell_type": "code",
      "metadata": {
        "id": "eiKbjfekxpjr"
      },
      "source": [
        "import csv\n",
        "import datetime\n",
        "import pathlib\n",
        "import re\n",
        "import time\n",
        "import urllib.parse\n",
        "\n",
        "import pandas as pd\n",
        "import requests"
      ],
      "execution_count": 1,
      "outputs": []
    },
    {
      "cell_type": "code",
      "metadata": {
        "id": "mZS2LOhgxyLp"
      },
      "source": [
        "api = {\n",
        "    # 1:免許情報検索  2: 登録情報検索\n",
        "    \"ST\": 1,\n",
        "    # 詳細情報付加 0:なし 1:あり\n",
        "    \"DA\": 1,\n",
        "    # スタートカウント\n",
        "    \"SC\": 1,\n",
        "    # 取得件数\n",
        "    \"DC\": 2,\n",
        "    # 出力形式 1:CSV 2:JSON 3:XML\n",
        "    \"OF\": 1,\n",
        "    # 無線局の種別\n",
        "    \"OW\": \"FB\",\n",
        "    # 所轄総合通信局\n",
        "    # \"IT\": \"A\",\n",
        "    # 免許人名称/登録人名称\n",
        "    \"NA\": \"楽天モバイル\",\n",
        "}"
      ],
      "execution_count": 2,
      "outputs": []
    },
    {
      "cell_type": "code",
      "metadata": {
        "colab": {
          "base_uri": "https://localhost:8080/"
        },
        "id": "DrwECtZ_dRmD",
        "outputId": "84160b49-9092-4d16-cceb-82f2a8daddce"
      },
      "source": [
        "sc = 1\n",
        "n = 0\n",
        "\n",
        "dfs = []\n",
        "\n",
        "while True:\n",
        "\n",
        "    api[\"SC\"] = sc\n",
        "    parm = urllib.parse.urlencode(api, encoding=\"shift-jis\")\n",
        "\n",
        "    r = requests.get(\"https://www.tele.soumu.go.jp/musen/list\", parm)\n",
        "    r.raise_for_status()\n",
        "\n",
        "    cr = csv.reader(r.text.splitlines(), delimiter=\",\")\n",
        "    data = list(cr)\n",
        "\n",
        "    n = int(data[0][1])\n",
        "\n",
        "    df_tmp = pd.DataFrame(data[1:]).dropna(how=\"all\")\n",
        "    dfs.append(df_tmp)\n",
        "\n",
        "    sc += 500\n",
        "\n",
        "    print(sc, n)\n",
        "\n",
        "    if sc > n:\n",
        "        break\n",
        " \n",
        "    time.sleep(10)"
      ],
      "execution_count": 3,
      "outputs": [
        {
          "output_type": "stream",
          "text": [
            "501 3666\n",
            "1001 3666\n",
            "1501 3666\n",
            "2001 3666\n",
            "2501 3666\n",
            "3001 3666\n",
            "3501 3666\n",
            "4001 3666\n"
          ],
          "name": "stdout"
        }
      ]
    },
    {
      "cell_type": "code",
      "metadata": {
        "id": "rKCS0T7Xewr1"
      },
      "source": [
        "df = pd.concat(dfs).reset_index(drop=True)"
      ],
      "execution_count": 4,
      "outputs": []
    },
    {
      "cell_type": "code",
      "metadata": {
        "id": "1Q3LfyLhx6w-"
      },
      "source": [
        "df[0] = df.index"
      ],
      "execution_count": 5,
      "outputs": []
    },
    {
      "cell_type": "code",
      "metadata": {
        "id": "SIdPDLqFeKZC"
      },
      "source": [
        "df[23] = df[23].str.replace(r\"\\\\n\", \"\\n\").apply(lambda s: [i.strip() for i in re.split(\"(?<=W\\n)\", s)])"
      ],
      "execution_count": 6,
      "outputs": []
    },
    {
      "cell_type": "code",
      "metadata": {
        "id": "R5zAnCoCvg-4"
      },
      "source": [
        "df1 = df.explode(23).reset_index(drop=True)"
      ],
      "execution_count": 7,
      "outputs": []
    },
    {
      "cell_type": "code",
      "metadata": {
        "id": "iZ98uoK854Rn"
      },
      "source": [
        "def bunri(s):\n",
        "\n",
        "    d = re.split(r\"\\\\t\", s)\n",
        "\n",
        "    return [d[0], \" \".join(d[1:-1]), d[-1]]"
      ],
      "execution_count": 8,
      "outputs": []
    },
    {
      "cell_type": "code",
      "metadata": {
        "id": "uUJsAC7v69p0"
      },
      "source": [
        "df2 = df1[23].apply(bunri).apply(pd.Series).rename(columns={0: \"電波の型式\", 1: \"周波数\", 2: \"空中線電力\"})"
      ],
      "execution_count": 9,
      "outputs": []
    },
    {
      "cell_type": "code",
      "metadata": {
        "colab": {
          "base_uri": "https://localhost:8080/",
          "height": 424
        },
        "id": "nT9IwAHeD7d0",
        "outputId": "7e7ca328-d2c6-4ebf-f374-6d3243927feb"
      },
      "source": [
        "df2"
      ],
      "execution_count": 10,
      "outputs": [
        {
          "output_type": "execute_result",
          "data": {
            "text/html": [
              "<div>\n",
              "<style scoped>\n",
              "    .dataframe tbody tr th:only-of-type {\n",
              "        vertical-align: middle;\n",
              "    }\n",
              "\n",
              "    .dataframe tbody tr th {\n",
              "        vertical-align: top;\n",
              "    }\n",
              "\n",
              "    .dataframe thead th {\n",
              "        text-align: right;\n",
              "    }\n",
              "</style>\n",
              "<table border=\"1\" class=\"dataframe\">\n",
              "  <thead>\n",
              "    <tr style=\"text-align: right;\">\n",
              "      <th></th>\n",
              "      <th>電波の型式</th>\n",
              "      <th>周波数</th>\n",
              "      <th>空中線電力</th>\n",
              "    </tr>\n",
              "  </thead>\n",
              "  <tbody>\n",
              "    <tr>\n",
              "      <th>0</th>\n",
              "      <td>99M9X7W</td>\n",
              "      <td>3849.99 MHz</td>\n",
              "      <td>436  mW</td>\n",
              "    </tr>\n",
              "    <tr>\n",
              "      <th>1</th>\n",
              "      <td>100MX7W</td>\n",
              "      <td>27.05004 GHz</td>\n",
              "      <td>221  mW</td>\n",
              "    </tr>\n",
              "    <tr>\n",
              "      <th>2</th>\n",
              "      <td>100MX7W</td>\n",
              "      <td>27.15 GHz</td>\n",
              "      <td>221  mW</td>\n",
              "    </tr>\n",
              "    <tr>\n",
              "      <th>3</th>\n",
              "      <td>100MX7W</td>\n",
              "      <td>27.24996 GHz</td>\n",
              "      <td>221  mW</td>\n",
              "    </tr>\n",
              "    <tr>\n",
              "      <th>4</th>\n",
              "      <td>100MX7W</td>\n",
              "      <td>27.34992 GHz</td>\n",
              "      <td>221  mW</td>\n",
              "    </tr>\n",
              "    <tr>\n",
              "      <th>...</th>\n",
              "      <td>...</td>\n",
              "      <td>...</td>\n",
              "      <td>...</td>\n",
              "    </tr>\n",
              "    <tr>\n",
              "      <th>8458</th>\n",
              "      <td>99M9X7W</td>\n",
              "      <td>3849.99 MHz</td>\n",
              "      <td>63   W</td>\n",
              "    </tr>\n",
              "    <tr>\n",
              "      <th>8459</th>\n",
              "      <td>100MX7W</td>\n",
              "      <td>27.05004 GHz</td>\n",
              "      <td>663  mW</td>\n",
              "    </tr>\n",
              "    <tr>\n",
              "      <th>8460</th>\n",
              "      <td>100MX7W</td>\n",
              "      <td>27.15 GHz</td>\n",
              "      <td>663  mW</td>\n",
              "    </tr>\n",
              "    <tr>\n",
              "      <th>8461</th>\n",
              "      <td>100MX7W</td>\n",
              "      <td>27.24996 GHz</td>\n",
              "      <td>663  mW</td>\n",
              "    </tr>\n",
              "    <tr>\n",
              "      <th>8462</th>\n",
              "      <td>100MX7W</td>\n",
              "      <td>27.34992 GHz</td>\n",
              "      <td>663  mW</td>\n",
              "    </tr>\n",
              "  </tbody>\n",
              "</table>\n",
              "<p>8463 rows × 3 columns</p>\n",
              "</div>"
            ],
            "text/plain": [
              "        電波の型式           周波数    空中線電力\n",
              "0     99M9X7W   3849.99 MHz  436  mW\n",
              "1     100MX7W  27.05004 GHz  221  mW\n",
              "2     100MX7W     27.15 GHz  221  mW\n",
              "3     100MX7W  27.24996 GHz  221  mW\n",
              "4     100MX7W  27.34992 GHz  221  mW\n",
              "...       ...           ...      ...\n",
              "8458  99M9X7W   3849.99 MHz   63   W\n",
              "8459  100MX7W  27.05004 GHz  663  mW\n",
              "8460  100MX7W     27.15 GHz  663  mW\n",
              "8461  100MX7W  27.24996 GHz  663  mW\n",
              "8462  100MX7W  27.34992 GHz  663  mW\n",
              "\n",
              "[8463 rows x 3 columns]"
            ]
          },
          "metadata": {
            "tags": []
          },
          "execution_count": 10
        }
      ]
    },
    {
      "cell_type": "code",
      "metadata": {
        "id": "zmPzZ-6wvzRP"
      },
      "source": [
        "df2[\"周波数\"] = df2[\"周波数\"].apply(lambda s: \" \".join(s.split()))"
      ],
      "execution_count": 11,
      "outputs": []
    },
    {
      "cell_type": "code",
      "metadata": {
        "id": "PT0tbCZeD_8S"
      },
      "source": [
        "df2[\"空中線電力\"] = df2[\"空中線電力\"].apply(lambda s: \" \".join(s.split()))"
      ],
      "execution_count": 12,
      "outputs": []
    },
    {
      "cell_type": "code",
      "metadata": {
        "id": "PgVqzRQrxR8n"
      },
      "source": [
        "df3 = df1.join(df2)"
      ],
      "execution_count": 13,
      "outputs": []
    },
    {
      "cell_type": "code",
      "metadata": {
        "colab": {
          "base_uri": "https://localhost:8080/"
        },
        "id": "ycHiW66IM6Le",
        "outputId": "8c6b29d9-862c-4102-acaf-409034c748fe"
      },
      "source": [
        "df3.shape"
      ],
      "execution_count": 14,
      "outputs": [
        {
          "output_type": "execute_result",
          "data": {
            "text/plain": [
              "(8463, 29)"
            ]
          },
          "metadata": {
            "tags": []
          },
          "execution_count": 14
        }
      ]
    },
    {
      "cell_type": "code",
      "metadata": {
        "id": "R-H2uWGCinRx"
      },
      "source": [
        "df3.to_csv(\"rakuten5G.csv\", encoding=\"utf_8_sig\")"
      ],
      "execution_count": 15,
      "outputs": []
    },
    {
      "cell_type": "code",
      "metadata": {
        "colab": {
          "base_uri": "https://localhost:8080/"
        },
        "id": "4ORO8zLFyJk3",
        "outputId": "1c02ff88-e166-49e0-8e75-ad378741edcc"
      },
      "source": [
        "df3[\"電波の型式\"].value_counts()"
      ],
      "execution_count": 16,
      "outputs": [
        {
          "output_type": "execute_result",
          "data": {
            "text/plain": [
              "100MX7W    6397\n",
              "99M9X7W    1340\n",
              "20M0X7W     726\n",
              "Name: 電波の型式, dtype: int64"
            ]
          },
          "metadata": {
            "tags": []
          },
          "execution_count": 16
        }
      ]
    },
    {
      "cell_type": "code",
      "metadata": {
        "colab": {
          "base_uri": "https://localhost:8080/"
        },
        "id": "HxQPQtiYyQLQ",
        "outputId": "2f0392c0-8ad7-4406-a594-2d80aa160099"
      },
      "source": [
        "df3[\"周波数\"].value_counts()"
      ],
      "execution_count": 17,
      "outputs": [
        {
          "output_type": "execute_result",
          "data": {
            "text/plain": [
              "27.15 GHz       1600\n",
              "27.24996 GHz    1599\n",
              "27.05004 GHz    1599\n",
              "27.34992 GHz    1599\n",
              "3849.99 MHz     1340\n",
              "1835 MHz         726\n",
              "Name: 周波数, dtype: int64"
            ]
          },
          "metadata": {
            "tags": []
          },
          "execution_count": 17
        }
      ]
    },
    {
      "cell_type": "code",
      "metadata": {
        "colab": {
          "base_uri": "https://localhost:8080/"
        },
        "id": "BGXhy2rPy_9I",
        "outputId": "9d9584d0-44b0-42c5-ac2e-a20bdbde69eb"
      },
      "source": [
        "df3[\"空中線電力\"].value_counts()"
      ],
      "execution_count": 18,
      "outputs": [
        {
          "output_type": "execute_result",
          "data": {
            "text/plain": [
              "663 mW      3400\n",
              "442 mW      1885\n",
              "221 mW      1068\n",
              "40 W         726\n",
              "218 mW       457\n",
              "            ... \n",
              "16.023 W       1\n",
              "24.064 W       1\n",
              "63.909 W       1\n",
              "1.382 W        1\n",
              "4.592 W        1\n",
              "Name: 空中線電力, Length: 76, dtype: int64"
            ]
          },
          "metadata": {
            "tags": []
          },
          "execution_count": 18
        }
      ]
    }
  ]
}