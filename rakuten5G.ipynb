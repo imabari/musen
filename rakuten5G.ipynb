{
  "nbformat": 4,
  "nbformat_minor": 0,
  "metadata": {
    "colab": {
      "name": "rakuten5G.ipynb",
      "provenance": [],
      "authorship_tag": "ABX9TyPhu/4l8lft7sklDZmF7V9J",
      "include_colab_link": true
    },
    "kernelspec": {
      "name": "python3",
      "display_name": "Python 3"
    },
    "language_info": {
      "name": "python"
    }
  },
  "cells": [
    {
      "cell_type": "markdown",
      "metadata": {
        "id": "view-in-github",
        "colab_type": "text"
      },
      "source": [
        "<a href=\"https://colab.research.google.com/github/imabari/musen/blob/main/rakuten5G.ipynb\" target=\"_parent\"><img src=\"https://colab.research.google.com/assets/colab-badge.svg\" alt=\"Open In Colab\"/></a>"
      ]
    },
    {
      "cell_type": "code",
      "metadata": {
        "id": "eiKbjfekxpjr"
      },
      "source": [
        "import csv\n",
        "import datetime\n",
        "import pathlib\n",
        "import time\n",
        "import urllib.parse\n",
        "\n",
        "import pandas as pd\n",
        "import requests"
      ],
      "execution_count": 1,
      "outputs": []
    },
    {
      "cell_type": "code",
      "metadata": {
        "id": "mZS2LOhgxyLp"
      },
      "source": [
        "api = {\n",
        "    # 1:免許情報検索  2: 登録情報検索\n",
        "    \"ST\": 1,\n",
        "    # 詳細情報付加 0:なし 1:あり\n",
        "    \"DA\": 1,\n",
        "    # スタートカウント\n",
        "    \"SC\": 1,\n",
        "    # 取得件数\n",
        "    \"DC\": 2,\n",
        "    # 出力形式 1:CSV 2:JSON 3:XML\n",
        "    \"OF\": 1,\n",
        "    # 無線局の種別\n",
        "    \"OW\": \"FB\",\n",
        "    # 所轄総合通信局\n",
        "    # \"IT\": \"A\",\n",
        "    # 免許人名称/登録人名称\n",
        "    \"NA\": \"楽天モバイル\",\n",
        "}"
      ],
      "execution_count": 2,
      "outputs": []
    },
    {
      "cell_type": "code",
      "metadata": {
        "colab": {
          "base_uri": "https://localhost:8080/"
        },
        "id": "DrwECtZ_dRmD",
        "outputId": "6262ed31-7f7a-4a16-ec6b-f20279d46a21"
      },
      "source": [
        "sc = 1\n",
        "n = 0\n",
        "\n",
        "dfs = []\n",
        "\n",
        "while True:\n",
        "\n",
        "    api[\"SC\"] = sc\n",
        "    parm = urllib.parse.urlencode(api, encoding=\"shift-jis\")\n",
        "\n",
        "    r = requests.get(\"https://www.tele.soumu.go.jp/musen/list\", parm)\n",
        "    r.raise_for_status()\n",
        "\n",
        "    cr = csv.reader(r.text.splitlines(), delimiter=\",\")\n",
        "    data = list(cr)\n",
        "\n",
        "    n = int(data[0][1])\n",
        "\n",
        "    df_tmp = pd.DataFrame(data[1:]).dropna(how=\"all\")\n",
        "    dfs.append(df_tmp)\n",
        "\n",
        "    sc += 500\n",
        "\n",
        "    print(sc, n)\n",
        "\n",
        "    if sc > n:\n",
        "        break\n",
        " \n",
        "    time.sleep(10)"
      ],
      "execution_count": 3,
      "outputs": [
        {
          "output_type": "stream",
          "text": [
            "501 3666\n",
            "1001 3666\n",
            "1501 3666\n",
            "2001 3666\n",
            "2501 3666\n",
            "3001 3666\n",
            "3501 3666\n",
            "4001 3666\n"
          ],
          "name": "stdout"
        }
      ]
    },
    {
      "cell_type": "code",
      "metadata": {
        "id": "rKCS0T7Xewr1"
      },
      "source": [
        "df = pd.concat(dfs).reset_index(drop=True)"
      ],
      "execution_count": 4,
      "outputs": []
    },
    {
      "cell_type": "code",
      "metadata": {
        "id": "1Q3LfyLhx6w-"
      },
      "source": [
        "df[0] = df.index"
      ],
      "execution_count": 5,
      "outputs": []
    },
    {
      "cell_type": "code",
      "metadata": {
        "id": "TsND8RhZlA9O"
      },
      "source": [
        "df[23] = df[23].str.split(r\"\\\\n\")"
      ],
      "execution_count": 6,
      "outputs": []
    },
    {
      "cell_type": "code",
      "metadata": {
        "id": "R5zAnCoCvg-4"
      },
      "source": [
        "df1 = df.explode(23).reset_index(drop=True)"
      ],
      "execution_count": 7,
      "outputs": []
    },
    {
      "cell_type": "code",
      "metadata": {
        "id": "ENfwE6aQwuIf"
      },
      "source": [
        "df2 = df1[23].str.replace(\" +\", \" \").str.split(r\"\\\\t\", expand=True).rename(columns={0: \"電波の型式\", 1: \"周波数\", 2: \"空中線電力\"})"
      ],
      "execution_count": 8,
      "outputs": []
    },
    {
      "cell_type": "code",
      "metadata": {
        "id": "PgVqzRQrxR8n"
      },
      "source": [
        "df3 = df1.join(df2)"
      ],
      "execution_count": 9,
      "outputs": []
    },
    {
      "cell_type": "code",
      "metadata": {
        "id": "R-H2uWGCinRx"
      },
      "source": [
        "df3.to_csv(\"rakuten5G.csv\", encoding=\"utf_8_sig\")"
      ],
      "execution_count": 10,
      "outputs": []
    },
    {
      "cell_type": "code",
      "metadata": {
        "colab": {
          "base_uri": "https://localhost:8080/"
        },
        "id": "4ORO8zLFyJk3",
        "outputId": "22dee570-05d5-42ff-c107-c62e5bfc89bc"
      },
      "source": [
        "df3[\"電波の型式\"].value_counts()"
      ],
      "execution_count": 11,
      "outputs": [
        {
          "output_type": "execute_result",
          "data": {
            "text/plain": [
              "100MX7W    6397\n",
              "99M9X7W    1340\n",
              "20M0X7W     726\n",
              "Name: 電波の型式, dtype: int64"
            ]
          },
          "metadata": {
            "tags": []
          },
          "execution_count": 11
        }
      ]
    },
    {
      "cell_type": "code",
      "metadata": {
        "colab": {
          "base_uri": "https://localhost:8080/"
        },
        "id": "HxQPQtiYyQLQ",
        "outputId": "f5e6a271-4f67-49c9-81c5-77636cc127c9"
      },
      "source": [
        "df3[\"周波数\"].value_counts()"
      ],
      "execution_count": 12,
      "outputs": [
        {
          "output_type": "execute_result",
          "data": {
            "text/plain": [
              "27.15 GHz       1600\n",
              "27.24996 GHz    1599\n",
              "27.34992 GHz    1599\n",
              "27.05004 GHz    1599\n",
              "3849.99 MHz     1340\n",
              "1835 MHz         726\n",
              "Name: 周波数, dtype: int64"
            ]
          },
          "metadata": {
            "tags": []
          },
          "execution_count": 12
        }
      ]
    },
    {
      "cell_type": "code",
      "metadata": {
        "colab": {
          "base_uri": "https://localhost:8080/"
        },
        "id": "BGXhy2rPy_9I",
        "outputId": "43b9f44f-f7db-4c37-9ef6-06e1cdacfb62"
      },
      "source": [
        "df3[\"空中線電力\"].value_counts()"
      ],
      "execution_count": 13,
      "outputs": [
        {
          "output_type": "execute_result",
          "data": {
            "text/plain": [
              "663 mW       3400\n",
              "442 mW       1885\n",
              "221 mW       1068\n",
              "40 W          726\n",
              "218 mW        457\n",
              "             ... \n",
              "22.313 W        1\n",
              "91.795 W        1\n",
              "126.691 W       1\n",
              "16.023 W        1\n",
              "6.561 W         1\n",
              "Name: 空中線電力, Length: 76, dtype: int64"
            ]
          },
          "metadata": {
            "tags": []
          },
          "execution_count": 13
        }
      ]
    }
  ]
}